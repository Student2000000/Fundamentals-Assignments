{
 "cells": [
  {
   "cell_type": "markdown",
   "metadata": {
    "id": "d82q4NWOEO_s"
   },
   "source": [
    "#Assignment 3: Counting, Combinatorics & Probability\n",
    "\n",
    "\n"
   ]
  },
  {
   "cell_type": "markdown",
   "metadata": {
    "id": "nhomWy1MGmVp"
   },
   "source": [
    "# Problem 1 - Implementing Combinatoric Functions in Python\n",
    "\n",
    "Write your own custom `number_of_permuations` and `number_of_combinations` functions in Python. For this problem, don't import any other Python libraries. (In real life, do make use of other libraries!)\n",
    "\n",
    "Your permuation function should accept a non-negative integer $n$ and compute $n!$ as an int.\n",
    "\n",
    "Your combination function should accept two non-negative integers $n$ and $k$ such that $k \\leq n$ and compute the value of ${n \\choose k}$ as an int.\n",
    "\n",
    "Use it to print ${10 \\choose 5}$ and ${80 \\choose 21}$."
   ]
  },
  {
   "cell_type": "code",
   "execution_count": 1,
   "metadata": {
    "id": "aIHaCnTWG3fI"
   },
   "outputs": [
    {
     "name": "stdout",
     "output_type": "stream",
     "text": [
      "C(10, 5):  15120\n",
      "C(80, 21):  516064664515637442512063581913087999999\n"
     ]
    }
   ],
   "source": [
    "#Broke it up bc it's easier for me that way. \n",
    "def factorial(n): \n",
    "    if n == 0 or n == 1: \n",
    "        return 1\n",
    "    result = 1 \n",
    "\n",
    "    for i in range(2, n + 1): \n",
    "        result *= i \n",
    "    return result\n",
    "\n",
    "def number_of_permutations(): \n",
    "    return factorial(n)\n",
    "\n",
    "def number_of_combinations(n, k): \n",
    "    if k > n: \n",
    "        return 0 \n",
    "    return factorial(n) // (factorial(k) + factorial(n - k))\n",
    "\n",
    "print(\"C(10, 5): \", number_of_combinations(10, 5))\n",
    "\n",
    "print(\"C(80, 21): \", number_of_combinations(80, 21))"
   ]
  },
  {
   "cell_type": "markdown",
   "metadata": {
    "id": "VOTQLW9HFbxC"
   },
   "source": [
    "# Problem 2 - Permutations in Python\n",
    "\n",
    "Write a Python function called `unique_words_starting_with` that accepts two parameters, a string `letters`, and a second string `starts_with`. Your function should return a list of strings that contains all **unique** permuations of the letters in `letters`, that also begin with the string `starts_with`.\n",
    "\n",
    "For example, `unique_words_starting_with(\"BANANA\", \"NAB\")` should return:\n",
    "\n",
    " `['NABANA', 'NABNAA', 'NABAAN']`.\n",
    "\n",
    "Hint: You can use functions from the `itertools` module. There are multiple ways to do this, but if you're stuck, it might be helpful to first compute *all* permuatations of `letters`. To get your results as strings, it might help to use the `''.join(s)` construction as shown [here](https://colab.research.google.com/drive/1eLl0SB0dqU-l65GzhjDe-CfyDHUh0Vgq#scrollTo=ORXc8-rXRBC6). Other built-in string functions might also be useful."
   ]
  },
  {
   "cell_type": "code",
   "execution_count": 7,
   "metadata": {
    "id": "N3RruFBDFpxx"
   },
   "outputs": [
    {
     "name": "stdout",
     "output_type": "stream",
     "text": [
      "['NABNAA', 'NABAAN', 'NABANA']\n"
     ]
    }
   ],
   "source": [
    "# Put your code here.\n",
    "\n",
    "# Some test case ideas:\n",
    "#print(unique_words_starting_with(\"ABC\", \"\"))\n",
    "#print(unique_words_starting_with(\"ABC\", \"B\"))\n",
    "#print(unique_words_starting_with(\"ABC\", \"X\"))\n",
    "#print(unique_words_starting_with(\"\", \"A\"))\n",
    "#print(unique_words_starting_with(\"OOH\", \"O\"))\n",
    "#print(unique_words_starting_with(\"BANANA\", \"NAB\"))\n",
    "\n",
    "import itertools\n",
    "\n",
    "def unique_words_starting_with(letters, starts_with):\n",
    "    all_permutations = itertools.permutations(letters)\n",
    "\n",
    "    unique_words = set()\n",
    "\n",
    "    for perm in all_permutations: \n",
    "        word = ''.join(perm)\n",
    "\n",
    "        if word.startswith(starts_with):\n",
    "            unique_words.add(word)\n",
    "\n",
    "    return list(unique_words)\n",
    "\n",
    "\n",
    "print(unique_words_starting_with(\"BANANA\", \"NAB\"))\n"
   ]
  },
  {
   "cell_type": "markdown",
   "metadata": {
    "id": "iGVewG_TTiLj"
   },
   "source": [
    "# Problem 3 - Combinations in Python\n",
    "\n",
    "Write a function that accepts a list of numbers as a parameter, and calculates how many unique *combinations* of three numbers chosen from the list can be added together to result in a sum that is *at least* 100? Each number from the list can be used only once.\n",
    "\n",
    "Hint: You can use functions from the `itertools` module.\n",
    "\n",
    "For example, from the list $[5, 10, 50, 100, 200]$, the 3-number combination $[10, 100, 200]$ would count, as it adds up to 310. But the 3-number combination $[5,10,50]$ would not, as it only adds up to 65.\n",
    "\n",
    "Print to the console the results of calling your function on the following test cases:"
   ]
  },
  {
   "cell_type": "code",
   "execution_count": 10,
   "metadata": {
    "id": "D3cchzp_T0C0"
   },
   "outputs": [
    {
     "name": "stdout",
     "output_type": "stream",
     "text": [
      "0\n",
      "9\n",
      "4\n",
      "113\n",
      "120\n"
     ]
    }
   ],
   "source": [
    "import itertools\n",
    "\n",
    "test_case_0 = [1, 2, 3, 4, 5, 6, 7, 8, 9, 10]\n",
    "test_case_1 = [5, 10, 50, 100, 200]\n",
    "test_case_2 = [10, 20, 30, 40, 50]\n",
    "test_case_3 = [10, 20, 30, 40, 50, 60, 70, 80, 90, 100]\n",
    "test_case_4 = [30, 40, 50, 60, 70, 80, 90, 100, 110, 120]\n",
    "\n",
    "def count_combos(number_list):\n",
    "  all_combinations = itertools.combinations(number_list, 3)\n",
    "\n",
    "  count = 0\n",
    "\n",
    "  for comb in all_combinations:\n",
    "    if sum(comb) >= 100: \n",
    "      count += 1\n",
    "  \n",
    "  \n",
    "  return count \n",
    "\n",
    "print(count_combos(test_case_0)) # Hint - This should be 0.\n",
    "print(count_combos(test_case_1)) # Hint - This should be 9.\n",
    "print(count_combos(test_case_2)) # Hint - This should be 4.\n",
    "print(count_combos(test_case_3))\n",
    "print(count_combos(test_case_4))"
   ]
  },
  {
   "cell_type": "markdown",
   "metadata": {
    "id": "0yk-fi_T-t3N"
   },
   "source": [
    "# Problem 4 - Dice Rolling Monte Carlo Simulation\n",
    "\n",
    "Write a python function `roll_dice` that uses the `random` module to simulate rolling two dice and returns the sum.\n",
    "\n",
    "Then call your function 10,000 times. Use the results of this to estimate:\n",
    "\n",
    "1.   The probability that the result is 7.\n",
    "2.   The probability that the result is less than or equal to 4.\n",
    "\n",
    "These results should be close to what you calculated in Problem 1."
   ]
  },
  {
   "cell_type": "code",
   "execution_count": 13,
   "metadata": {
    "id": "tYEGB6lk-ynV"
   },
   "outputs": [
    {
     "name": "stdout",
     "output_type": "stream",
     "text": [
      "Probability of 7 = 0.15784215784215785\n",
      "Probability of 4 or less = 0.16383616383616384\n"
     ]
    }
   ],
   "source": [
    "from random import randint\n",
    "\n",
    "def roll_dice():\n",
    "\n",
    "  probability_of_7 = 0\n",
    "  probability_of_4_or_less = 0\n",
    "\n",
    "  for i in range(1001):\n",
    "    die_1 = randint(1, 6)\n",
    "    die_2 = randint(1, 6)\n",
    "\n",
    "    if (die_1 + die_2 == 7): \n",
    "      probability_of_7 += 1\n",
    "    elif(die_1 + die_2 <= 4): \n",
    "      probability_of_4_or_less += 1\n",
    "\n",
    "  probability_of_7 = probability_of_7 / 1001\n",
    "  probability_of_4_or_less = probability_of_4_or_less / 1001 \n",
    "\n",
    "  return probability_of_7, probability_of_4_or_less\n",
    "\n",
    "probability_of_7, probability_of_4_or_less = roll_dice()\n",
    "\n",
    "# Return the sum of rolling two six-sided dice.\n",
    "\n",
    "# Run experiment 10,000 times, use results to estimate probability of rolling a 7 or rolling a 4 or less.\n",
    "\n",
    "print(\"Probability of 7 = \" + str(probability_of_7))\n",
    "print(\"Probability of 4 or less = \" + str(probability_of_4_or_less))"
   ]
  },
  {
   "cell_type": "markdown",
   "metadata": {
    "id": "XHV4Z7X--9KB"
   },
   "source": [
    "# Problem 5 - Dice Rolling Probability Distribution\n",
    "Call your function 10,000 times and record the results. Generate a bar graph of the possible outcomes. (How many times did you roll 2? How many times did you roll 3? Etc...)\n",
    "\n",
    "Hint: Use a `dict` to create a map of results to the number of times you encounter that result. Then use this map to plot a bar graph, with a bar for each outcome."
   ]
  },
  {
   "cell_type": "code",
   "execution_count": 15,
   "metadata": {
    "colab": {
     "base_uri": "https://localhost:8080/",
     "height": 265
    },
    "id": "_We7RA36_Gez",
    "outputId": "65269f36-f004-4987-dbd9-782c9b059ece"
   },
   "outputs": [
    {
     "data": {
      "image/png": "[encoded data removed]",
      "text/plain": [
       "<Figure size 640x480 with 1 Axes>"
      ]
     },
     "metadata": {},
     "output_type": "display_data"
    }
   ],
   "source": [
    "from random import randint\n",
    "import matplotlib.pyplot as plt\n",
    "\n",
    "# Run experiment 1000 times.\n",
    "def roll_dice():\n",
    "    die_1 = randint(1, 6)\n",
    "    die_2 = randint(1, 6)\n",
    "    return die_1 + die_2\n",
    "\n",
    "outcome_count = {i: 0 for i in range(2, 13)}\n",
    "\n",
    "for _ in range(10000):\n",
    "    outcome = roll_dice()\n",
    "    outcome_count[outcome] += 1\n",
    "\n",
    "x = list(outcome_count.keys())\n",
    "y = list(outcome_count.values())\n",
    "\n",
    "# Plot results\n",
    "plt.bar(x, y)\n",
    "plt.xlabel('sum of die')\n",
    "plt.ylabel('Frequency')\n",
    "plt.title('dist. of Dice roll sums (10,000 rolls)')\n",
    "plt.show()"
   ]
  },
  {
   "cell_type": "markdown",
   "metadata": {
    "id": "E8vqsVNw_KX_"
   },
   "source": [
    "# Problem 6 - Card Drawing Simulation\n",
    "\n",
    "Use the following Python class to represent a deck of 52 cards. Each card has one of four suits (Hearts, Spades, Clubs, Diamonds) and a \"rank\", which is a number from 1-13.\n",
    "\n",
    "Write a function, `draw_hand`, that simulates drawing a random 3 card hand from a full deck of cards. This function should return a `list` of 3 card objects. This should simulate drawing 3 cards from a real deck of 52 unique cards (i.e. you can't draw the same card twice!)\n",
    "\n",
    "Call your function three times, printing the resulting list to the console each time.\n",
    "\n",
    "Hint: One way to do this is to generate a full deck as a `list`, and then use the `shuffle` function, which takes in a list and shuffles the order of its elements. You can use your deck generating code from last week's assignment.\n",
    "\n",
    "Execute the following code cell and use the following classes to make it easier to represent cards."
   ]
  },
  {
   "cell_type": "code",
   "execution_count": 17,
   "metadata": {
    "id": "J2n-qg-w_Okc"
   },
   "outputs": [
    {
     "name": "stdout",
     "output_type": "stream",
     "text": [
      "1 of Hearts\n",
      "5 of Diamonds\n",
      "8 of Clubs\n",
      "12 of Spades\n"
     ]
    }
   ],
   "source": [
    "from enum import Enum\n",
    "\n",
    "class Suit(Enum):\n",
    "  SPADES = \"Spades\"\n",
    "  HEARTS = \"Hearts\"\n",
    "  CLUBS = \"Clubs\"\n",
    "  DIAMONDS = \"Diamonds\"\n",
    "\n",
    "  def __str__(self):\n",
    "    return self.value\n",
    "\n",
    "\n",
    "class Card:\n",
    "  rank = 0\n",
    "  suit = Suit.SPADES\n",
    "\n",
    "  def __init__(self, rank, suit):\n",
    "    self.rank = rank\n",
    "    self.suit = suit\n",
    "  \n",
    "  def __str__(self):\n",
    "    return str(self.rank) + \" of \" + str(self.suit)\n",
    "  \n",
    "  def __hash__(self):\n",
    "    return hash(self.rank)*hash(self.suit)\n",
    "\n",
    "  def __repr__(self):\n",
    "       return self.__str__()\n",
    "  \n",
    "  def __eq__(self, other):\n",
    "        return self.rank==other.rank and self.suit==other.suit\n",
    "\n",
    "print(Card(1, Suit.HEARTS))\n",
    "print(Card(5, Suit.DIAMONDS))\n",
    "print(Card(8, Suit.CLUBS))\n",
    "print(Card(12, Suit.SPADES))"
   ]
  },
  {
   "cell_type": "code",
   "execution_count": 20,
   "metadata": {
    "colab": {
     "base_uri": "https://localhost:8080/"
    },
    "id": "JfNrD8iR_RxP",
    "outputId": "e314423b-1e2e-4ee9-f42c-7a1ed9b90cc3"
   },
   "outputs": [
    {
     "name": "stdout",
     "output_type": "stream",
     "text": [
      "Hand 1:  [9 of Diamonds, 7 of Diamonds, 4 of Spades]\n",
      "Hand 2:  [12 of Hearts, 1 of Diamonds, 13 of Hearts]\n",
      "Hand 3:  [1 of Clubs, 6 of Diamonds, 2 of Diamonds]\n"
     ]
    }
   ],
   "source": [
    "from random import shuffle\n",
    "\n",
    "# Put your answer here.\n",
    "\n",
    "class Deck: \n",
    "  def __init__(self): \n",
    "\n",
    "    self.cards = [Card(rank, suit) for suit in Suit for rank in range(1,14)]\n",
    "\n",
    "  def shuffle_deck(self): \n",
    "    shuffle(self.cards)\n",
    "\n",
    "  def draw_card(self):\n",
    "    return self.cards.pop()\n",
    "  \n",
    "  def draw_hand(self): \n",
    "    hand = [self.draw_card() for _ in range(3)]\n",
    "    return hand \n",
    "\n",
    "# Return 3 card hand chosen randomly from 52-card deck.\n",
    "\n",
    "deck = Deck()\n",
    "deck.shuffle_deck()\n",
    "\n",
    "\n",
    "print(\"Hand 1: \", deck.draw_hand())\n",
    "print(\"Hand 2: \", deck.draw_hand())\n",
    "print(\"Hand 3: \", deck.draw_hand())"
   ]
  },
  {
   "cell_type": "markdown",
   "metadata": {
    "id": "t_BogI15_Y2V"
   },
   "source": [
    "# Problem 7 - Card Drawing Monte Carlo Simulation\n",
    "\n",
    "Write functions `is_three_of_a_kind` and `is_flush` that take in a list of 3 `Card` objects and return true of they are a three of a kind or flush, respectively.\n",
    "\n",
    "Write Python code that runs an experiment using your `draw_hand` function to estimate the probability of drawing three of a kind of a flush. Repeat your experiemnt 10,000 times, and count the number of times you draw three of a kind and the number of times you draw a flush.\n",
    "\n",
    "Use these results to print to the console an estimation of the probabilities of drawing a three of a kind or flush."
   ]
  },
  {
   "cell_type": "code",
   "execution_count": null,
   "metadata": {
    "colab": {
     "base_uri": "https://localhost:8080/"
    },
    "id": "6CK2k6Tg_aZq",
    "outputId": "c4a4290e-aa0e-48cf-a4cd-91e928d12361"
   },
   "outputs": [
    {
     "name": "stdout",
     "output_type": "stream",
     "text": [
      "Probability of Three of a Kind = 0\n",
      "Probability of Flush = 0\n"
     ]
    }
   ],
   "source": [
    "def is_three_of_a_kind(hand):\n",
    "  ranks = [card.rank for card in hand]\n",
    "  count = Counter(ranks)\n",
    "  return False # Return True if its a 3 of a kind\n",
    "\n",
    "def is_flush(hand):\n",
    "  return False # Return True if a flush\n",
    "\n",
    "# Run experiment 10,000 times and estimate probabilities!\n",
    "\n",
    "probability_of_three_of_a_kind = 0\n",
    "probability_of_flush = 0\n",
    "\n",
    "print(\"Probability of Three of a Kind = \" + str(probability_of_three_of_a_kind))\n",
    "print(\"Probability of Flush = \" + str(probability_of_flush))"
   ]
  },
  {
   "cell_type": "markdown",
   "metadata": {
    "id": "fix9_4IG_xMg"
   },
   "source": [
    "\n",
    "# Problem 8 - Multiple Choice Guessing Statistics\n",
    "\n",
    "Write a Monte Carlo Simulation to simulate taking an $n$ question quiz, which has $k$ choices. Write a simulate_quiz function that simulates taking a quiz by guessing randomly on each question, and returns the score of that simulation, where each correct answer is worth 1 point on the quiz.\n",
    "\n",
    "Generate a list of 1000 simulated quiz scores, where each quiz had 100 questions and 5 choices on each question. \n",
    "\n",
    "Then calculate both the mean and median of that data set.\n",
    "\n",
    "Note: When \"simulating\" the quiz, all that matters is the final score. In other words, while there are many ways to do this simulation, you don't necessarily have to actually generate 4 choices and pick one. For each question, all that matters is whether or not the question gets guessed correctly. What are the odds of guessing an individual question correctly?"
   ]
  },
  {
   "cell_type": "code",
   "execution_count": null,
   "metadata": {
    "id": "V11Y4I0S_z84"
   },
   "outputs": [],
   "source": [
    "from random import randint\n",
    "\n",
    "def simulate_quiz(number_of_questions, number_of_choices):\n",
    "  return 0 # Return score.\n",
    "\n",
    "# Generate random list of 1000 simulated quiz scores.\n",
    "\n",
    "# Calculate and print the mean.\n",
    "mean_score = 0\n",
    "print(\"Mean = \" + str(mean_score))\n",
    "\n",
    "# Find and print the median.\n",
    "median_score = 0\n",
    "print(\"Mean = \" + str(median_score))"
   ]
  },
  {
   "cell_type": "markdown",
   "metadata": {
    "id": "PEHCmNCi_3Lf"
   },
   "source": [
    "# Problem 9 - Multiple Choice Guessing Monte Carlo Simulation\n",
    "\n",
    "Use your `simulate_quiz` function to estimate the probability of getting **at least** $p$ questions correct.\n",
    "\n",
    "To do this, write a function `estimate_probability_of_passing`, which takes three parameters: `number_of_questions`, `number_of_choices`, and `correct_answers_needed`. Calling this function should run 100,000 experiments, record how many experiments result in a passing grade, and then use this to estimate the probability.\n",
    "\n",
    "Use your program to output the estimated probabilities calculated in Problem 8."
   ]
  },
  {
   "cell_type": "code",
   "execution_count": null,
   "metadata": {
    "colab": {
     "base_uri": "https://localhost:8080/"
    },
    "id": "x-BkQpe3_5fc",
    "outputId": "dca010fc-0cdd-4e8b-b261-d235651b5185"
   },
   "outputs": [
    {
     "name": "stdout",
     "output_type": "stream",
     "text": [
      "Probability of at 6/6 - 0\n",
      "Probability of at least 4/6 - 0\n",
      "Probability of at least 1/6 - 0\n"
     ]
    }
   ],
   "source": [
    "def estimate_probability_of_passing(number_of_questions, number_of_choices, correct_answers_needed):\n",
    "  # Run experiment 100,000 times to estimate the probability of passing.\n",
    "  return 0\n",
    "\n",
    "# Print out estimates for the three parts of the previous question.\n",
    "\n",
    "print(\"Probability of at 6/6 - \" + str(estimate_probability_of_passing(6, 4, 6)))\n",
    "\n",
    "print(\"Probability of at least 4/6 - \" + str(estimate_probability_of_passing(6, 4, 4)))\n",
    "\n",
    "print(\"Probability of at least 1/6 - \" + str(estimate_probability_of_passing(6, 4, 1)))"
   ]
  }
 ],
 "metadata": {
  "colab": {
   "provenance": []
  },
  "kernelspec": {
   "display_name": "base",
   "language": "python",
   "name": "python3"
  },
  "language_info": {
   "codemirror_mode": {
    "name": "ipython",
    "version": 3
   },
   "file_extension": ".py",
   "mimetype": "text/x-python",
   "name": "python",
   "nbconvert_exporter": "python",
   "pygments_lexer": "ipython3",
   "version": "3.12.4"
  }
 },
 "nbformat": 4,
 "nbformat_minor": 0
}
