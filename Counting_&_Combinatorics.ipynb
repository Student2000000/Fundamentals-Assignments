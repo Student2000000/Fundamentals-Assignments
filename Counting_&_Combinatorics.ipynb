{
  "nbformat": 4,
  "nbformat_minor": 0,
  "metadata": {
    "colab": {
      "provenance": []
    },
    "kernelspec": {
      "name": "python3",
      "display_name": "Python 3"
    },
    "language_info": {
      "name": "python"
    }
  },
  "cells": [
    {
      "cell_type": "markdown",
      "metadata": {
        "id": "d82q4NWOEO_s"
      },
      "source": [
        "#Assignment 3: Counting, Combinatorics & Probability\n",
        "\n",
        "\n"
      ]
    },
    {
      "cell_type": "markdown",
      "metadata": {
        "id": "nhomWy1MGmVp"
      },
      "source": [
        "# Problem 1 - Implementing Combinatoric Functions in Python\n",
        "\n",
        "Write your own custom `number_of_permuations` and `number_of_combinations` functions in Python. For this problem, don't import any other Python libraries. (In real life, do make use of other libraries!)\n",
        "\n",
        "Your permuation function should accept a non-negative integer $n$ and compute $n!$ as an int.\n",
        "\n",
        "Your combination function should accept two non-negative integers $n$ and $k$ such that $k \\leq n$ and compute the value of ${n \\choose k}$ as an int.\n",
        "\n",
        "Use it to print ${10 \\choose 5}$ and ${80 \\choose 21}$."
      ]
    },
    {
      "cell_type": "code",
      "metadata": {
        "id": "aIHaCnTWG3fI"
      },
      "source": [
        "# Put your code here.\n",
        "\n",
        "#print(\"10 choose 5 = \",  number_of_combinations(10,5))\n",
        "#print(\"80 choose 21 = \", number_of_combinations(80,21))"
      ],
      "execution_count": null,
      "outputs": []
    },
    {
      "cell_type": "markdown",
      "metadata": {
        "id": "VOTQLW9HFbxC"
      },
      "source": [
        "# Problem 2 - Permutations in Python\n",
        "\n",
        "Write a Python function called `unique_words_starting_with` that accepts two parameters, a string `letters`, and a second string `starts_with`. Your function should return a list of strings that contains all **unique** permuations of the letters in `letters`, that also begin with the string `starts_with`.\n",
        "\n",
        "For example, `unique_words_starting_with(\"BANANA\", \"NAB\")` should return:\n",
        "\n",
        " `['NABANA', 'NABNAA', 'NABAAN']`.\n",
        "\n",
        "Hint: You can use functions from the `itertools` module. There are multiple ways to do this, but if you're stuck, it might be helpful to first compute *all* permuatations of `letters`. To get your results as strings, it might help to use the `''.join(s)` construction as shown [here](https://colab.research.google.com/drive/1eLl0SB0dqU-l65GzhjDe-CfyDHUh0Vgq#scrollTo=ORXc8-rXRBC6). Other built-in string functions might also be useful."
      ]
    },
    {
      "cell_type": "code",
      "metadata": {
        "id": "N3RruFBDFpxx"
      },
      "source": [
        "# Put your code here.\n",
        "\n",
        "# Some test case ideas:\n",
        "#print(unique_words_starting_with(\"ABC\", \"\"))\n",
        "#print(unique_words_starting_with(\"ABC\", \"B\"))\n",
        "#print(unique_words_starting_with(\"ABC\", \"X\"))\n",
        "#print(unique_words_starting_with(\"\", \"A\"))\n",
        "#print(unique_words_starting_with(\"OOH\", \"O\"))\n",
        "#print(unique_words_starting_with(\"BANANA\", \"NAB\"))"
      ],
      "execution_count": null,
      "outputs": []
    },
    {
      "cell_type": "markdown",
      "metadata": {
        "id": "iGVewG_TTiLj"
      },
      "source": [
        "# Problem 3 - Combinations in Python\n",
        "\n",
        "Write a function that accepts a list of numbers as a parameter, and calculates how many unique *combinations* of three numbers chosen from the list can be added together to result in a sum that is *at least* 100? Each number from the list can be used only once.\n",
        "\n",
        "Hint: You can use functions from the `itertools` module.\n",
        "\n",
        "For example, from the list $[5, 10, 50, 100, 200]$, the 3-number combination $[10, 100, 200]$ would count, as it adds up to 310. But the 3-number combination $[5,10,50]$ would not, as it only adds up to 65.\n",
        "\n",
        "Print to the console the results of calling your function on the following test cases:"
      ]
    },
    {
      "cell_type": "code",
      "metadata": {
        "id": "D3cchzp_T0C0"
      },
      "source": [
        "test_case_0 = [1, 2, 3, 4, 5, 6, 7, 8, 9, 10]\n",
        "test_case_1 = [5, 10, 50, 100, 200]\n",
        "test_case_2 = [10, 20, 30, 40, 50]\n",
        "test_case_3 = [10, 20, 30, 40, 50, 60, 70, 80, 90, 100]\n",
        "test_case_4 = [30, 40, 50, 60, 70, 80, 90, 100, 110, 120]\n",
        "\n",
        "def count_combos(number_list):\n",
        "  return 0 # Implement this.\n",
        "\n",
        "print(count_combos(test_case_0)) # Hint - This should be 0.\n",
        "print(count_combos(test_case_1)) # Hint - This should be 9.\n",
        "print(count_combos(test_case_2)) # Hint - This should be 4.\n",
        "print(count_combos(test_case_3))\n",
        "print(count_combos(test_case_4))"
      ],
      "execution_count": null,
      "outputs": []
    },
    {
      "cell_type": "markdown",
      "source": [
        "# Problem 4 - Dice Rolling Monte Carlo Simulation\n",
        "\n",
        "Write a python function `roll_dice` that uses the `random` module to simulate rolling two dice and returns the sum.\n",
        "\n",
        "Then call your function 10,000 times. Use the results of this to estimate:\n",
        "\n",
        "1.   The probability that the result is 7.\n",
        "2.   The probability that the result is less than or equal to 4.\n",
        "\n",
        "These results should be close to what you calculated in Problem 1."
      ],
      "metadata": {
        "id": "0yk-fi_T-t3N"
      }
    },
    {
      "cell_type": "code",
      "source": [
        "from random import randint\n",
        "\n",
        "def roll_dice():\n",
        "  return 0 # Return the sum of rolling two six-sided dice.\n",
        "\n",
        "# Run experiment 10,000 times, use results to estimate probability of rolling a 7 or rolling a 4 or less.\n",
        "\n",
        "probability_of_7 = 0\n",
        "probability_of_4_or_less = 0\n",
        "\n",
        "print(\"Probability of 7 = \" + str(probability_of_7))\n",
        "print(\"Probability of 4 or less = \" + str(probability_of_4_or_less))"
      ],
      "metadata": {
        "id": "tYEGB6lk-ynV"
      },
      "execution_count": null,
      "outputs": []
    },
    {
      "cell_type": "markdown",
      "source": [
        "# Problem 5 - Dice Rolling Probability Distribution\n",
        "Call your function 10,000 times and record the results. Generate a bar graph of the possible outcomes. (How many times did you roll 2? How many times did you roll 3? Etc...)\n",
        "\n",
        "Hint: Use a `dict` to create a map of results to the number of times you encounter that result. Then use this map to plot a bar graph, with a bar for each outcome."
      ],
      "metadata": {
        "id": "XHV4Z7X--9KB"
      }
    },
    {
      "cell_type": "code",
      "source": [
        "from random import randint\n",
        "import matplotlib.pyplot as plt\n",
        "\n",
        "# Run experiment 1000 times.\n",
        "\n",
        "# Plot results\n",
        "x = []\n",
        "y = []\n",
        "plt.bar(x, y)\n",
        "\n",
        "plt.show()"
      ],
      "metadata": {
        "colab": {
          "base_uri": "https://localhost:8080/",
          "height": 265
        },
        "id": "_We7RA36_Gez",
        "outputId": "65269f36-f004-4987-dbd9-782c9b059ece"
      },
      "execution_count": null,
      "outputs": [
        {
          "output_type": "display_data",
          "data": {
            "text/plain": [
              "<Figure size 432x288 with 1 Axes>"
            ],
            "image/png": "[encoded data removed]"
          },
          "metadata": {
            "needs_background": "light"
          }
        }
      ]
    },
    {
      "cell_type": "markdown",
      "source": [
        "# Problem 6 - Card Drawing Simulation\n",
        "\n",
        "Use the following Python class to represent a deck of 52 cards. Each card has one of four suits (Hearts, Spades, Clubs, Diamonds) and a \"rank\", which is a number from 1-13.\n",
        "\n",
        "Write a function, `draw_hand`, that simulates drawing a random 3 card hand from a full deck of cards. This function should return a `list` of 3 card objects. This should simulate drawing 3 cards from a real deck of 52 unique cards (i.e. you can't draw the same card twice!)\n",
        "\n",
        "Call your function three times, printing the resulting list to the console each time.\n",
        "\n",
        "Hint: One way to do this is to generate a full deck as a `list`, and then use the `shuffle` function, which takes in a list and shuffles the order of its elements. You can use your deck generating code from last week's assignment.\n",
        "\n",
        "Execute the following code cell and use the following classes to make it easier to represent cards."
      ],
      "metadata": {
        "id": "E8vqsVNw_KX_"
      }
    },
    {
      "cell_type": "code",
      "source": [
        "from enum import Enum\n",
        "\n",
        "class Suit(Enum):\n",
        "  SPADES = \"Spades\"\n",
        "  HEARTS = \"Hearts\"\n",
        "  CLUBS = \"Clubs\"\n",
        "  DIAMONDS = \"Diamonds\"\n",
        "\n",
        "  def __str__(self):\n",
        "    return self.value\n",
        "\n",
        "\n",
        "class Card:\n",
        "  rank = 0\n",
        "  suit = Suit.SPADES\n",
        "\n",
        "  def __init__(self, rank, suit):\n",
        "    self.rank = rank\n",
        "    self.suit = suit\n",
        "  \n",
        "  def __str__(self):\n",
        "    return str(self.rank) + \" of \" + str(self.suit)\n",
        "  \n",
        "  def __hash__(self):\n",
        "    return hash(self.rank)*hash(self.suit)\n",
        "\n",
        "  def __repr__(self):\n",
        "       return self.__str__()\n",
        "  \n",
        "  def __eq__(self, other):\n",
        "        return self.rank==other.rank and self.suit==other.suit\n",
        "\n",
        "print(Card(1, Suit.HEARTS))\n",
        "print(Card(5, Suit.DIAMONDS))\n",
        "print(Card(8, Suit.CLUBS))\n",
        "print(Card(12, Suit.SPADES))"
      ],
      "metadata": {
        "id": "J2n-qg-w_Okc"
      },
      "execution_count": null,
      "outputs": []
    },
    {
      "cell_type": "code",
      "source": [
        "from random import shuffle\n",
        "\n",
        "# Put your answer here.\n",
        "\n",
        "def draw_hand():\n",
        "  return [] # Return 3 card hand chosen randomly from 52-card deck.\n",
        "\n",
        "print(draw_hand())\n",
        "print(draw_hand())\n",
        "print(draw_hand())"
      ],
      "metadata": {
        "colab": {
          "base_uri": "https://localhost:8080/"
        },
        "id": "JfNrD8iR_RxP",
        "outputId": "e314423b-1e2e-4ee9-f42c-7a1ed9b90cc3"
      },
      "execution_count": null,
      "outputs": [
        {
          "output_type": "stream",
          "name": "stdout",
          "text": [
            "[]\n",
            "[]\n",
            "[]\n"
          ]
        }
      ]
    },
    {
      "cell_type": "markdown",
      "source": [
        "# Problem 7 - Card Drawing Monte Carlo Simulation\n",
        "\n",
        "Write functions `is_three_of_a_kind` and `is_flush` that take in a list of 3 `Card` objects and return true of they are a three of a kind or flush, respectively.\n",
        "\n",
        "Write Python code that runs an experiment using your `draw_hand` function to estimate the probability of drawing three of a kind of a flush. Repeat your experiemnt 10,000 times, and count the number of times you draw three of a kind and the number of times you draw a flush.\n",
        "\n",
        "Use these results to print to the console an estimation of the probabilities of drawing a three of a kind or flush."
      ],
      "metadata": {
        "id": "t_BogI15_Y2V"
      }
    },
    {
      "cell_type": "code",
      "source": [
        "def is_three_of_a_kind(hand):\n",
        "  return False # Return True if its a 3 of a kind\n",
        "\n",
        "def is_flush(hand):\n",
        "  return False # Return True if a flush\n",
        "\n",
        "# Run experiment 10,000 times and estimate probabilities!\n",
        "\n",
        "probability_of_three_of_a_kind = 0\n",
        "probability_of_flush = 0\n",
        "\n",
        "print(\"Probability of Three of a Kind = \" + str(probability_of_three_of_a_kind))\n",
        "print(\"Probability of Flush = \" + str(probability_of_flush))"
      ],
      "metadata": {
        "colab": {
          "base_uri": "https://localhost:8080/"
        },
        "id": "6CK2k6Tg_aZq",
        "outputId": "c4a4290e-aa0e-48cf-a4cd-91e928d12361"
      },
      "execution_count": null,
      "outputs": [
        {
          "output_type": "stream",
          "name": "stdout",
          "text": [
            "Probability of Three of a Kind = 0\n",
            "Probability of Flush = 0\n"
          ]
        }
      ]
    },
    {
      "cell_type": "markdown",
      "source": [
        "\n",
        "# Problem 8 - Multiple Choice Guessing Statistics\n",
        "\n",
        "Write a Monte Carlo Simulation to simulate taking an $n$ question quiz, which has $k$ choices. Write a simulate_quiz function that simulates taking a quiz by guessing randomly on each question, and returns the score of that simulation, where each correct answer is worth 1 point on the quiz.\n",
        "\n",
        "Generate a list of 1000 simulated quiz scores, where each quiz had 100 questions and 5 choices on each question. \n",
        "\n",
        "Then calculate both the mean and median of that data set.\n",
        "\n",
        "Note: When \"simulating\" the quiz, all that matters is the final score. In other words, while there are many ways to do this simulation, you don't necessarily have to actually generate 4 choices and pick one. For each question, all that matters is whether or not the question gets guessed correctly. What are the odds of guessing an individual question correctly?"
      ],
      "metadata": {
        "id": "fix9_4IG_xMg"
      }
    },
    {
      "cell_type": "code",
      "source": [
        "from random import randint\n",
        "\n",
        "def simulate_quiz(number_of_questions, number_of_choices):\n",
        "  return 0 # Return score.\n",
        "\n",
        "# Generate random list of 1000 simulated quiz scores.\n",
        "\n",
        "# Calculate and print the mean.\n",
        "mean_score = 0\n",
        "print(\"Mean = \" + str(mean_score))\n",
        "\n",
        "# Find and print the median.\n",
        "median_score = 0\n",
        "print(\"Mean = \" + str(median_score))"
      ],
      "metadata": {
        "id": "V11Y4I0S_z84"
      },
      "execution_count": null,
      "outputs": []
    },
    {
      "cell_type": "markdown",
      "source": [
        "# Problem 9 - Multiple Choice Guessing Monte Carlo Simulation\n",
        "\n",
        "Use your `simulate_quiz` function to estimate the probability of getting **at least** $p$ questions correct.\n",
        "\n",
        "To do this, write a function `estimate_probability_of_passing`, which takes three parameters: `number_of_questions`, `number_of_choices`, and `correct_answers_needed`. Calling this function should run 100,000 experiments, record how many experiments result in a passing grade, and then use this to estimate the probability.\n",
        "\n",
        "Use your program to output the estimated probabilities calculated in Problem 8."
      ],
      "metadata": {
        "id": "PEHCmNCi_3Lf"
      }
    },
    {
      "cell_type": "code",
      "source": [
        "def estimate_probability_of_passing(number_of_questions, number_of_choices, correct_answers_needed):\n",
        "  # Run experiment 100,000 times to estimate the probability of passing.\n",
        "  return 0\n",
        "\n",
        "# Print out estimates for the three parts of the previous question.\n",
        "\n",
        "print(\"Probability of at 6/6 - \" + str(estimate_probability_of_passing(6, 4, 6)))\n",
        "\n",
        "print(\"Probability of at least 4/6 - \" + str(estimate_probability_of_passing(6, 4, 4)))\n",
        "\n",
        "print(\"Probability of at least 1/6 - \" + str(estimate_probability_of_passing(6, 4, 1)))"
      ],
      "metadata": {
        "colab": {
          "base_uri": "https://localhost:8080/"
        },
        "id": "x-BkQpe3_5fc",
        "outputId": "dca010fc-0cdd-4e8b-b261-d235651b5185"
      },
      "execution_count": null,
      "outputs": [
        {
          "output_type": "stream",
          "name": "stdout",
          "text": [
            "Probability of at 6/6 - 0\n",
            "Probability of at least 4/6 - 0\n",
            "Probability of at least 1/6 - 0\n"
          ]
        }
      ]
    }
  ]
}