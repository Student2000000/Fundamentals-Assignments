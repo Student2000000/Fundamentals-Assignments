{
 "cells": [
  {
   "attachments": {},
   "cell_type": "markdown",
   "metadata": {
    "id": "d82q4NWOEO_s"
   },
   "source": [
    "# Assignment 1: Sets and Functions\n"
   ]
  },
  {
   "cell_type": "markdown",
   "metadata": {
    "id": "Jfl4eeMJGjZj"
   },
   "source": [
    "## Problem 1\n",
    "\n",
    "Write a Python function that takes a number as input and doubles it. Call that function."
   ]
  },
  {
   "cell_type": "code",
   "execution_count": null,
   "metadata": {
    "id": "8pjiI0QNGykh"
   },
   "outputs": [],
   "source": [
    "def function (x):\n",
    "    y = x * 2\n",
    "    return y \n"
   ]
  },
  {
   "cell_type": "markdown",
   "metadata": {
    "id": "fx48LeTEUrx-"
   },
   "source": [
    "## Problem 2 - Python Set Operations\n",
    "\n",
    "The following python code includes definitions of 3 sets in variables `A`, `B`, and `C`. Extend the code block to include the following 4 additional sets:\n",
    "\n",
    "* A set `D` that contains the first 5 multiples of 5, starting with 5 itself.\n",
    "* A set `E` that represents the union $A \\cup B$\n",
    "* A set `F` that represents the intersection $C \\cap A$\n",
    "* A set `G` that represents the difference $B - A$.\n",
    "\n",
    "For set $D$, you can just enumerate the elements. But for sets $E$, $F$, and $G$, **use Python's built-in set functions** to calculate them using the variables already declared.\n",
    "\n",
    "Output all 4 sets to the console.\n",
    "\n"
   ]
  },
  {
   "cell_type": "code",
   "execution_count": 14,
   "metadata": {
    "id": "jWa-kuioU3oW"
   },
   "outputs": [
    {
     "name": "stdout",
     "output_type": "stream",
     "text": [
      "Set D {10, 5, 15}\n",
      "Set E {0, 1, 2, 3, 4, 5, 6, 7, 8, 9, 10, 12, 15}\n",
      "Set F {5, 6, 7, 8, 9, 10}\n",
      "Set G {12, 15}\n"
     ]
    }
   ],
   "source": [
    "a = set([0,1,2,3,4,5,6,7,8,9,10])\n",
    "b = {0,3,6,9,12,15}\n",
    "c = {5,6,7,8,9,10,11,12,13,14,15}\n",
    "\n",
    "# Put your code here.\n",
    "d = {5, 10, 15}\n",
    "print(\"Set D\", d)\n",
    "\n",
    "def setE(set1, set2):\n",
    "    return set1.union(set2)\n",
    "\n",
    "result = setE(a, b)\n",
    "print(\"Set E\", result)\n",
    "\n",
    "def setF(set1, set2): \n",
    "    return set1.intersection(set2)\n",
    "\n",
    "resultF = setF(c, a)\n",
    "print(\"Set F\", resultF)\n",
    "\n",
    "def setG(set1, set2): \n",
    "    return set1.difference(set2)\n",
    "\n",
    "resultG = setG(b, a)\n",
    "print(\"Set G\", resultG)\n"
   ]
  },
  {
   "cell_type": "markdown",
   "metadata": {
    "id": "C1-YYX1Rumb7"
   },
   "source": [
    "Remember, make sure your code runs, and that all 4 sets are output to the console. You must use python's built-in set functions to compute sets `E` and `F` to get full credit."
   ]
  },
  {
   "cell_type": "markdown",
   "metadata": {
    "id": "QDWE5Aq4XZY-"
   },
   "source": [
    "## Problem 3 - Python Math Functions\n",
    "\n",
    "In Python, do the following tasks:\n",
    "\n",
    "\n",
    "*   Declare a function `increment` that takes an input and adds 1.\n",
    "*   Declare a function `triple` that takes an input and multiplies it by 3.\n",
    "*   Declare a function called `composite` that calls the previous two functions in order to computer the function $f(x)=3x+1$.\n",
    "*   Output to the console the results of calling your `composite` function three times on inputs of 7, 10, and 42.\n",
    "\n"
   ]
  },
  {
   "cell_type": "code",
   "execution_count": 19,
   "metadata": {
    "id": "63uI3mCZYLlF"
   },
   "outputs": [
    {
     "name": "stdout",
     "output_type": "stream",
     "text": [
      "22 31 127\n"
     ]
    }
   ],
   "source": [
    "# Define your three functions here.\n",
    "def increment(z): \n",
    "    w = z + 1\n",
    "    return w\n",
    "\n",
    "def triple(z):\n",
    "    w = z * 3\n",
    "    return w\n",
    "\n",
    "def composite(i):\n",
    "    a = increment(triple(i))\n",
    "    return a\n",
    "\n",
    "\n",
    "test = composite(7)\n",
    "test2 = composite(10)\n",
    "test3 = composite(42)\n",
    "print(test, test2, test3)"
   ]
  },
  {
   "attachments": {},
   "cell_type": "markdown",
   "metadata": {
    "id": "WlrARrCPeDeu"
   },
   "source": [
    "## Problem 4 - Technican Tasks I\n",
    "\n",
    "Assume the role of the technician at a company called Discrete Power Inc. Your boss just told you she wants you to take a series of lists of computers the company currently owns and get some information from them. The lists were submitted by each department and some of the departments listed the same computer as a computer in another department.\n",
    "Task 1a: Create Sets from raw data using Python set notation (print each set after it is created)\n",
    "Here are the lists she gives you:\n",
    "    \n",
    "List 1: from Accounting Dept. (name this set: acctDeptSet).     \n",
    "·      Dell-123     \n",
    "·      Compaq-234     \n",
    "·      Dell-124     \n",
    "·      Dell-125     \n",
    "·      HP-888     \n",
    "\n",
    "List 2: from IT Dept. (name this set: itDeptSet).   \n",
    "·      Dell-125       \n",
    "·      HP-777    \n",
    "·      Asus-123    \n",
    "·      Dell-123    \n",
    "·      Compaq-111    \n"
   ]
  },
  {
   "cell_type": "code",
   "execution_count": 20,
   "metadata": {
    "id": "8Ms2DHsnebez"
   },
   "outputs": [
    {
     "name": "stdout",
     "output_type": "stream",
     "text": [
      "Accoutning's set:  {'HP-888', 'Dell-123', 'Compaq-234', 'Dell-124', 'Dell-125'}\n",
      "IT's set:  {'Dell-123', 'Asus-123', 'HP-777', 'Compaq-111', 'Dell-125'}\n"
     ]
    }
   ],
   "source": [
    " # From Accounting\n",
    "acctList = ['Dell-123', 'Compaq-234', 'Dell-124', 'Dell-125', 'HP-888']\n",
    "\n",
    "# From IT \n",
    "itList = ['Dell-125', 'HP-777', 'Asus-123', 'Dell-123', 'Compaq-111']\n",
    "\n",
    "acctSet = set(acctList)\n",
    "itSet = set(itList)\n",
    "\n",
    "print(\"Accoutning's set: \", acctSet)\n",
    "print(\"IT's set: \", itSet)\n"
   ]
  },
  {
   "attachments": {},
   "cell_type": "markdown",
   "metadata": {
    "id": "nYNBqTpMetWJ"
   },
   "source": [
    "## Problem 5 - Technican Tasks II\n",
    "Use Set Operations to develop what is needed using Python operations (print each set after it is created)\n",
    "You return to her with your sets and she is pleased. She now needs you to organize them. \n",
    "- She wants a set of the computers that are on the two lists that are unique (Union). She wants you to name this set: allComputers.\n",
    "- Next she wants you to make a set that shows which computers are duplicated in the two sets (Intersection). She asks you to name this set: duplicateComputers\n",
    "- Next, she wants you to produce a set that shows which computers are in the Accounting Department that are not in the IT Department (Set Difference) and name this set acctDeptComputers.\n",
    "- Finally, she wants you to do the reverse of the last instruction. Produce a set that shows the computers that are in the IT Department but not in the Accounting Department (Set Difference) and name this set itDeptComputers.\n",
    "\n",
    "Each of the above can be done in one line."
   ]
  },
  {
   "cell_type": "code",
   "execution_count": 26,
   "metadata": {
    "id": "wIME3DTgexNQ"
   },
   "outputs": [],
   "source": [
    "allComputers = set(setE(acctSet, itSet)) \n",
    "\n",
    "duplicateComputers = set(setF(acctSet, itSet))\n",
    "\n",
    "acctDeptComputers = set(setG(acctSet, itSet))\n",
    "\n",
    "itDeptComputers = set(setG(itSet, acctSet))"
   ]
  },
  {
   "attachments": {},
   "cell_type": "markdown",
   "metadata": {
    "id": "yRjJTCjme51a"
   },
   "source": [
    "## Problem 6: Technican Tasks: Lists\n",
    "Your boss at Discrete Power has another task for you. She is giving you 3 lists. One is a list of computer brands, another is a list of RAM specs and the last is a list of Storage specs. She says she wants you to produce a master list of all the difference combinations for the brands so she can see what her options are. \n",
    "    \n",
    "Create the sets from the lists she has given you using Python set notation (print each set after it is created)    \n",
    "    \n",
    "Set: brands   \n",
    "·      Compaq    \n",
    "·      Dell    \n",
    "·      HP    \n",
    "·      Asus    \n",
    "    \n",
    "Set: ram    \n",
    "·      4 GB    \n",
    "·      8 GB    \n",
    "·      12 GB    \n",
    "·      16 GB    \n",
    "    \n",
    "Set: storage     \n",
    "·      500 GB HDD     \n",
    "·      1 TB HDD     \n",
    "·      256 GB SSD      \n",
    "·      512 GB SSD     \n",
    "·      1 TB SSD     \n",
    "\n"
   ]
  },
  {
   "cell_type": "code",
   "execution_count": 27,
   "metadata": {
    "id": "TXtFlqVtfGFn"
   },
   "outputs": [
    {
     "name": "stdout",
     "output_type": "stream",
     "text": [
      "Brands:  {'HP', 'Compaq', 'Asus', 'Dell'}\n",
      "RAM:  {'12 GB', '4 GB', '16 GB', '8 GB'}\n",
      "Storage:  {'500 GB HDD', '1 TB HDD', '1 TB SSD', '256 GB SSD', '512 GB SSD'}\n"
     ]
    }
   ],
   "source": [
    "brands = {'Compaq', 'Dell', 'HP', 'Asus'}\n",
    "\n",
    "ram = {'4 GB', '8 GB', '12 GB', '16 GB'}\n",
    "\n",
    "storage = {'500 GB HDD', '1 TB HDD', '256 GB SSD', '512 GB SSD', '1 TB SSD'}\n",
    "\n",
    "print(\"Brands: \", brands)\n",
    "print(\"RAM: \", ram)\n",
    "print(\"Storage: \", storage)"
   ]
  },
  {
   "attachments": {},
   "cell_type": "markdown",
   "metadata": {
    "id": "spsJ-KOgfRG1"
   },
   "source": [
    "## Problem 7\n",
    "\n",
    "Use cartesian product operation to get what the boss needs this time using Python. (print each set after it is created)\n",
    "- Produce a set that is the Cartesian Product of the three lists. Name the set allOptions. \n",
    "- You can use the library <code>itertools</code> which has a function called <code>product</code> in it to make your life easier. Using the library <code>pprint</code>'s function <code>PrettyPrinter</code> will make your output easier to read.\n",
    "- In a Python comment, state which option looks to be the best in your opinion (no wrong answers here)."
   ]
  },
  {
   "cell_type": "code",
   "execution_count": null,
   "metadata": {
    "id": "Q7qXTqbNfUVm"
   },
   "outputs": [
    {
     "name": "stdout",
     "output_type": "stream",
     "text": [
      "All combinations: \n",
      "[('HP', '12 GB', '500 GB HDD'),\n",
      " ('HP', '12 GB', '1 TB HDD'),\n",
      " ('HP', '12 GB', '1 TB SSD'),\n",
      " ('HP', '12 GB', '256 GB SSD'),\n",
      " ('HP', '12 GB', '512 GB SSD'),\n",
      " ('HP', '4 GB', '500 GB HDD'),\n",
      " ('HP', '4 GB', '1 TB HDD'),\n",
      " ('HP', '4 GB', '1 TB SSD'),\n",
      " ('HP', '4 GB', '256 GB SSD'),\n",
      " ('HP', '4 GB', '512 GB SSD'),\n",
      " ('HP', '16 GB', '500 GB HDD'),\n",
      " ('HP', '16 GB', '1 TB HDD'),\n",
      " ('HP', '16 GB', '1 TB SSD'),\n",
      " ('HP', '16 GB', '256 GB SSD'),\n",
      " ('HP', '16 GB', '512 GB SSD'),\n",
      " ('HP', '8 GB', '500 GB HDD'),\n",
      " ('HP', '8 GB', '1 TB HDD'),\n",
      " ('HP', '8 GB', '1 TB SSD'),\n",
      " ('HP', '8 GB', '256 GB SSD'),\n",
      " ('HP', '8 GB', '512 GB SSD'),\n",
      " ('Compaq', '12 GB', '500 GB HDD'),\n",
      " ('Compaq', '12 GB', '1 TB HDD'),\n",
      " ('Compaq', '12 GB', '1 TB SSD'),\n",
      " ('Compaq', '12 GB', '256 GB SSD'),\n",
      " ('Compaq', '12 GB', '512 GB SSD'),\n",
      " ('Compaq', '4 GB', '500 GB HDD'),\n",
      " ('Compaq', '4 GB', '1 TB HDD'),\n",
      " ('Compaq', '4 GB', '1 TB SSD'),\n",
      " ('Compaq', '4 GB', '256 GB SSD'),\n",
      " ('Compaq', '4 GB', '512 GB SSD'),\n",
      " ('Compaq', '16 GB', '500 GB HDD'),\n",
      " ('Compaq', '16 GB', '1 TB HDD'),\n",
      " ('Compaq', '16 GB', '1 TB SSD'),\n",
      " ('Compaq', '16 GB', '256 GB SSD'),\n",
      " ('Compaq', '16 GB', '512 GB SSD'),\n",
      " ('Compaq', '8 GB', '500 GB HDD'),\n",
      " ('Compaq', '8 GB', '1 TB HDD'),\n",
      " ('Compaq', '8 GB', '1 TB SSD'),\n",
      " ('Compaq', '8 GB', '256 GB SSD'),\n",
      " ('Compaq', '8 GB', '512 GB SSD'),\n",
      " ('Asus', '12 GB', '500 GB HDD'),\n",
      " ('Asus', '12 GB', '1 TB HDD'),\n",
      " ('Asus', '12 GB', '1 TB SSD'),\n",
      " ('Asus', '12 GB', '256 GB SSD'),\n",
      " ('Asus', '12 GB', '512 GB SSD'),\n",
      " ('Asus', '4 GB', '500 GB HDD'),\n",
      " ('Asus', '4 GB', '1 TB HDD'),\n",
      " ('Asus', '4 GB', '1 TB SSD'),\n",
      " ('Asus', '4 GB', '256 GB SSD'),\n",
      " ('Asus', '4 GB', '512 GB SSD'),\n",
      " ('Asus', '16 GB', '500 GB HDD'),\n",
      " ('Asus', '16 GB', '1 TB HDD'),\n",
      " ('Asus', '16 GB', '1 TB SSD'),\n",
      " ('Asus', '16 GB', '256 GB SSD'),\n",
      " ('Asus', '16 GB', '512 GB SSD'),\n",
      " ('Asus', '8 GB', '500 GB HDD'),\n",
      " ('Asus', '8 GB', '1 TB HDD'),\n",
      " ('Asus', '8 GB', '1 TB SSD'),\n",
      " ('Asus', '8 GB', '256 GB SSD'),\n",
      " ('Asus', '8 GB', '512 GB SSD'),\n",
      " ('Dell', '12 GB', '500 GB HDD'),\n",
      " ('Dell', '12 GB', '1 TB HDD'),\n",
      " ('Dell', '12 GB', '1 TB SSD'),\n",
      " ('Dell', '12 GB', '256 GB SSD'),\n",
      " ('Dell', '12 GB', '512 GB SSD'),\n",
      " ('Dell', '4 GB', '500 GB HDD'),\n",
      " ('Dell', '4 GB', '1 TB HDD'),\n",
      " ('Dell', '4 GB', '1 TB SSD'),\n",
      " ('Dell', '4 GB', '256 GB SSD'),\n",
      " ('Dell', '4 GB', '512 GB SSD'),\n",
      " ('Dell', '16 GB', '500 GB HDD'),\n",
      " ('Dell', '16 GB', '1 TB HDD'),\n",
      " ('Dell', '16 GB', '1 TB SSD'),\n",
      " ('Dell', '16 GB', '256 GB SSD'),\n",
      " ('Dell', '16 GB', '512 GB SSD'),\n",
      " ('Dell', '8 GB', '500 GB HDD'),\n",
      " ('Dell', '8 GB', '1 TB HDD'),\n",
      " ('Dell', '8 GB', '1 TB SSD'),\n",
      " ('Dell', '8 GB', '256 GB SSD'),\n",
      " ('Dell', '8 GB', '512 GB SSD')]\n"
     ]
    }
   ],
   "source": [
    "import itertools\n",
    "import pprint\n",
    "\n",
    "\n",
    "allOptions = list(itertools.product(brands, ram, storage))\n",
    "print(\"All combinations: \")\n",
    "pprint.pprint(allOptions, width = 80)\n",
    "\n",
    "#I like Pretty Print! Though honeslty my dyslexia makes them both hard to read lol \n"
   ]
  }
 ],
 "metadata": {
  "colab": {
   "provenance": []
  },
  "kernelspec": {
   "display_name": "base",
   "language": "python",
   "name": "python3"
  },
  "language_info": {
   "codemirror_mode": {
    "name": "ipython",
    "version": 3
   },
   "file_extension": ".py",
   "mimetype": "text/x-python",
   "name": "python",
   "nbconvert_exporter": "python",
   "pygments_lexer": "ipython3",
   "version": "3.12.4"
  },
  "vscode": {
   "interpreter": {
    "hash": "c0bf057c892e0691752ed83d165757496dda3d92fff4f5e1d82e230b729cc0d7"
   }
  }
 },
 "nbformat": 4,
 "nbformat_minor": 0
}
