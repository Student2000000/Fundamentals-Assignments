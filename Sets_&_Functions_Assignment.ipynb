{
  "cells": [
    {
      "attachments": {},
      "cell_type": "markdown",
      "metadata": {
        "id": "d82q4NWOEO_s"
      },
      "source": [
        "# Assignment 1: Sets and Functions\n"
      ]
    },
    {
      "cell_type": "markdown",
      "metadata": {
        "id": "Jfl4eeMJGjZj"
      },
      "source": [
        "## Problem 1\n",
        "\n",
        "Write a Python function that takes a number as input and doubles it. Call that function."
      ]
    },
    {
      "cell_type": "code",
      "execution_count": null,
      "metadata": {
        "id": "8pjiI0QNGykh"
      },
      "outputs": [],
      "source": []
    },
    {
      "cell_type": "markdown",
      "metadata": {
        "id": "fx48LeTEUrx-"
      },
      "source": [
        "## Problem 2 - Python Set Operations\n",
        "\n",
        "The following python code includes definitions of 3 sets in variables `A`, `B`, and `C`. Extend the code block to include the following 4 additional sets:\n",
        "\n",
        "* A set `D` that contains the first 5 multiples of 5, starting with 5 itself.\n",
        "* A set `E` that represents the union $A \\cup B$\n",
        "* A set `F` that represents the intersection $C \\cap A$\n",
        "* A set `G` that represents the difference $B - A$.\n",
        "\n",
        "For set $D$, you can just enumerate the elements. But for sets $E$, $F$, and $G$, **use Python's built-in set functions** to calculate them using the variables already declared.\n",
        "\n",
        "Output all 4 sets to the console.\n",
        "\n"
      ]
    },
    {
      "cell_type": "code",
      "execution_count": 1,
      "metadata": {
        "id": "jWa-kuioU3oW"
      },
      "outputs": [],
      "source": [
        "a = set([0,1,2,3,4,5,6,7,8,9,10])\n",
        "b = {0,3,6,9,12,15}\n",
        "c = {5,6,7,8,9,10,11,12,13,14,15}\n",
        "\n",
        "# Put your code here."
      ]
    },
    {
      "cell_type": "markdown",
      "metadata": {
        "id": "C1-YYX1Rumb7"
      },
      "source": [
        "Remember, make sure your code runs, and that all 4 sets are output to the console. You must use python's built-in set functions to compute sets `E` and `F` to get full credit."
      ]
    },
    {
      "cell_type": "markdown",
      "metadata": {
        "id": "QDWE5Aq4XZY-"
      },
      "source": [
        "## Problem 3 - Python Math Functions\n",
        "\n",
        "In Python, do the following tasks:\n",
        "\n",
        "\n",
        "*   Declare a function `increment` that takes an input and adds 1.\n",
        "*   Declare a function `triple` that takes an input and multiplies it by 3.\n",
        "*   Declare a function called `composite` that calls the previous two functions in order to computer the function $f(x)=3x+1$.\n",
        "*   Output to the console the results of calling your `composite` function three times on inputs of 7, 10, and 42.\n",
        "\n"
      ]
    },
    {
      "cell_type": "code",
      "execution_count": 2,
      "metadata": {
        "id": "63uI3mCZYLlF"
      },
      "outputs": [],
      "source": [
        "# Define your three functions here."
      ]
    },
    {
      "attachments": {},
      "cell_type": "markdown",
      "metadata": {
        "id": "WlrARrCPeDeu"
      },
      "source": [
        "## Problem 4 - Technican Tasks I\n",
        "\n",
        "Assume the role of the technician at a company called Discrete Power Inc. Your boss just told you she wants you to take a series of lists of computers the company currently owns and get some information from them. The lists were submitted by each department and some of the departments listed the same computer as a computer in another department.\n",
        "Task 1a: Create Sets from raw data using Python set notation (print each set after it is created)\n",
        "Here are the lists she gives you:\n",
        "    \n",
        "List 1: from Accounting Dept. (name this set: acctDeptSet).     \n",
        "·      Dell-123     \n",
        "·      Compaq-234     \n",
        "·      Dell-124     \n",
        "·      Dell-125     \n",
        "·      HP-888     \n",
        "\n",
        "List 2: from IT Dept. (name this set: itDeptSet).   \n",
        "·      Dell-125       \n",
        "·      HP-777    \n",
        "·      Asus-123    \n",
        "·      Dell-123    \n",
        "·      Compaq-111    \n"
      ]
    },
    {
      "cell_type": "code",
      "execution_count": null,
      "metadata": {
        "id": "8Ms2DHsnebez"
      },
      "outputs": [],
      "source": [
        " "
      ]
    },
    {
      "attachments": {},
      "cell_type": "markdown",
      "metadata": {
        "id": "nYNBqTpMetWJ"
      },
      "source": [
        "## Problem 5 - Technican Tasks II\n",
        "Use Set Operations to develop what is needed using Python operations (print each set after it is created)\n",
        "You return to her with your sets and she is pleased. She now needs you to organize them. \n",
        "- She wants a set of the computers that are on the two lists that are unique (Union). She wants you to name this set: allComputers.\n",
        "- Next she wants you to make a set that shows which computers are duplicated in the two sets (Intersection). She asks you to name this set: duplicateComputers\n",
        "- Next, she wants you to produce a set that shows which computers are in the Accounting Department that are not in the IT Department (Set Difference) and name this set acctDeptComputers.\n",
        "- Finally, she wants you to do the reverse of the last instruction. Produce a set that shows the computers that are in the IT Department but not in the Accounting Department (Set Difference) and name this set itDeptComputers.\n",
        "\n",
        "Each of the above can be done in one line."
      ]
    },
    {
      "cell_type": "code",
      "execution_count": null,
      "metadata": {
        "id": "wIME3DTgexNQ"
      },
      "outputs": [],
      "source": []
    },
    {
      "attachments": {},
      "cell_type": "markdown",
      "metadata": {
        "id": "yRjJTCjme51a"
      },
      "source": [
        "## Problem 6: Technican Tasks: Lists\n",
        "Your boss at Discrete Power has another task for you. She is giving you 3 lists. One is a list of computer brands, another is a list of RAM specs and the last is a list of Storage specs. She says she wants you to produce a master list of all the difference combinations for the brands so she can see what her options are. \n",
        "    \n",
        "Create the sets from the lists she has given you using Python set notation (print each set after it is created)    \n",
        "    \n",
        "Set: brands   \n",
        "·      Compaq    \n",
        "·      Dell    \n",
        "·      HP    \n",
        "·      Asus    \n",
        "    \n",
        "Set: ram    \n",
        "·      4 GB    \n",
        "·      8 GB    \n",
        "·      12 GB    \n",
        "·      16 GB    \n",
        "    \n",
        "Set: storage     \n",
        "·      500 GB HDD     \n",
        "·      1 TB HDD     \n",
        "·      256 GB SSD      \n",
        "·      512 GB SSD     \n",
        "·      1 TB SSD     \n",
        "\n"
      ]
    },
    {
      "cell_type": "code",
      "execution_count": null,
      "metadata": {
        "id": "TXtFlqVtfGFn"
      },
      "outputs": [],
      "source": []
    },
    {
      "attachments": {},
      "cell_type": "markdown",
      "metadata": {
        "id": "spsJ-KOgfRG1"
      },
      "source": [
        "## Problem 7\n",
        "\n",
        "Use cartesian product operation to get what the boss needs this time using Python. (print each set after it is created)\n",
        "- Produce a set that is the Cartesian Product of the three lists. Name the set allOptions. \n",
        "- You can use the library <code>itertools</code> which has a function called <code>product</code> in it to make your life easier. Using the library <code>pprint</code>'s function <code>PrettyPrinter</code> will make your output easier to read.\n",
        "- In a Python comment, state which option looks to be the best in your opinion (no wrong answers here)."
      ]
    },
    {
      "cell_type": "code",
      "execution_count": null,
      "metadata": {
        "id": "Q7qXTqbNfUVm"
      },
      "outputs": [],
      "source": []
    }
  ],
  "metadata": {
    "colab": {
      "provenance": []
    },
    "kernelspec": {
      "display_name": "base",
      "language": "python",
      "name": "python3"
    },
    "language_info": {
      "codemirror_mode": {
        "name": "ipython",
        "version": 3
      },
      "file_extension": ".py",
      "mimetype": "text/x-python",
      "name": "python",
      "nbconvert_exporter": "python",
      "pygments_lexer": "ipython3",
      "version": "3.9.7 (default, Sep 16 2021, 08:50:36) \n[Clang 10.0.0 ]"
    },
    "vscode": {
      "interpreter": {
        "hash": "c0bf057c892e0691752ed83d165757496dda3d92fff4f5e1d82e230b729cc0d7"
      }
    }
  },
  "nbformat": 4,
  "nbformat_minor": 0
}
