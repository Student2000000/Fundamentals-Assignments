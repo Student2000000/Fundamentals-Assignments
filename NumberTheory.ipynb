{
  "cells": [
    {
      "cell_type": "markdown",
      "metadata": {
        "id": "4VzyGX3_jStB"
      },
      "source": [
        "# Assignment 2: Number Theory\n",
        "We are going to use something called the South African Scouts Prime Cipher to create an encoding function called SASPrimeCipher. The way the South African Scouts Prime Cipher works is it assigns the letters of alphabet sequentially to the first 26 prime numbers and to encode a word, it multiplies those prime numbers together. So, for instance, the word: ACE, would be: 2, 5 and 11. 2 * 5 * 11 = 110. The encoded message for ACE would be 110. "
      ]
    },
    {
      "cell_type": "markdown",
      "metadata": {
        "id": "6nuJ5x-3ja3D"
      },
      "source": [
        "## Problem 1: Prime Numbers\n",
        "\n",
        "Create a block of code that will find the prime numbers between 2 and 103 and append them into a list called primenums. Print the list primenums. (be sure to include 2 and 103, there are 27 items in the list)"
      ]
    },
    {
      "cell_type": "code",
      "execution_count": null,
      "metadata": {
        "id": "_43_y7nijd7M"
      },
      "outputs": [],
      "source": [
        "\n"
      ]
    },
    {
      "cell_type": "markdown",
      "metadata": {
        "id": "yKlEXO0LjhoX"
      },
      "source": [
        "## Problem 2: Storing Lowercase Letters\n",
        "\n",
        "Create a block of code that will store all of the lowercase letters of the alphabet into a list. Call this list: alphabet. Print the list alphabet. This can be done pretty easily using the chr() python function and the range of 97-123 with a loop.\n"
      ]
    },
    {
      "cell_type": "code",
      "execution_count": null,
      "metadata": {
        "id": "gDHy3rYEjo2k"
      },
      "outputs": [],
      "source": [
        "\n"
      ]
    },
    {
      "cell_type": "markdown",
      "metadata": {
        "id": "cKC-2riRjpyB"
      },
      "source": [
        "## Problem 3: Joining Lists\n",
        "Join the two lists into a Python dictionary called cipher (use Google to help with this). (This should literally take one line of code) Print the dictionary cipher."
      ]
    },
    {
      "cell_type": "code",
      "execution_count": null,
      "metadata": {
        "id": "fvPqtURTjtvm"
      },
      "outputs": [],
      "source": []
    },
    {
      "attachments": {},
      "cell_type": "markdown",
      "metadata": {
        "id": "A9ENICk5jvSY"
      },
      "source": [
        "## Problem 4: South African Scouts Prime Cipher Function\n",
        "\n",
        "Create a function that will accept a word and use the South African Scouts Prime Cipher to encode it using the cipher dictionary you created. Have you function encode the words: \"computer\", \"technology\", and \"scientist\". It will be helpful to store all the numbers you need to multiply together into a list and then use the numpy.prod() functionality to get their product but thats not required. You can import the numpy library by using       \n",
        "    <pre><code>import numpy as np</pre></code>\n",
        "\n",
        "For extra challenge, ensure this can accept captial letter without breaking and offer an ability for the user to put in a word to encode after.\n"
      ]
    },
    {
      "cell_type": "code",
      "execution_count": 2,
      "metadata": {
        "id": "xlHVhTYtj2aL"
      },
      "outputs": [],
      "source": [
        "\n",
        "\n",
        "def SASprimeCipher(textinput): \n"
      ]
    },
    {
      "attachments": {},
      "cell_type": "markdown",
      "metadata": {
        "id": "lR2o60ucj7BN"
      },
      "source": [
        "## Problem 5: Decode Possibilities\n",
        "\n",
        "Writing a decode function presents a problem. Explain why it would be a problem to decode this and give a possible idea for a solution. (Not wrong answer other than \"no answer\"). If you can find a way to code a decode function, do so."
      ]
    },
    {
      "cell_type": "code",
      "execution_count": null,
      "metadata": {
        "id": "kkSE566CkCEg"
      },
      "outputs": [],
      "source": [
        "# This is not possible because we'd need to know the prime-ness of the\n",
        "# original word's unicode code points and that information was lost\n",
        "# once encoding occurred. '''\n"
      ]
    },
    {
      "attachments": {},
      "cell_type": "markdown",
      "metadata": {},
      "source": [
        "# Problem 6: Greast Common Divisor\n",
        "Write a Python function<code> gcd(a, b) </code>that calculates the greatest common divisor of two positive integers <i>a</i> and <i>b</i>. You are allowed to use a brute-force approach but I encourage you to challenge yourself and explore implementation using recurison or alternate solutions that are more efficient.\n",
        "Test the following combinations:\n",
        "1. Find the gcd of 92 and 12\n",
        "2. Find the gcd of 150 and 190\n",
        "3. (Optional) Find the gcd of 18289894500228625200 and 14814814692 (You will NOT be able to do this with a brute force solution so don't try or you'll have to manually stop)"
      ]
    },
    {
      "cell_type": "code",
      "execution_count": null,
      "metadata": {},
      "outputs": [],
      "source": []
    },
    {
      "cell_type": "code",
      "execution_count": null,
      "metadata": {},
      "outputs": [],
      "source": []
    },
    {
      "attachments": {},
      "cell_type": "markdown",
      "metadata": {},
      "source": [
        "# Problem 7: Create your own Cipher\n",
        "\n",
        "Time for you to get create and create your own cipher. Use some of the number theory concepts we learned in class (gcd, lcm, prime numbers, etc.). There is no wrong answer here unless its left blank or does not make sense. Encrypt the sentence \"Never give up\". Can you decypt it back?"
      ]
    },
    {
      "cell_type": "code",
      "execution_count": null,
      "metadata": {},
      "outputs": [],
      "source": []
    }
  ],
  "metadata": {
    "colab": {
      "provenance": []
    },
    "kernelspec": {
      "display_name": "base",
      "language": "python",
      "name": "python3"
    },
    "language_info": {
      "codemirror_mode": {
        "name": "ipython",
        "version": 3
      },
      "file_extension": ".py",
      "mimetype": "text/x-python",
      "name": "python",
      "nbconvert_exporter": "python",
      "pygments_lexer": "ipython3",
      "version": "3.9.7"
    },
    "vscode": {
      "interpreter": {
        "hash": "c0bf057c892e0691752ed83d165757496dda3d92fff4f5e1d82e230b729cc0d7"
      }
    }
  },
  "nbformat": 4,
  "nbformat_minor": 0
}
